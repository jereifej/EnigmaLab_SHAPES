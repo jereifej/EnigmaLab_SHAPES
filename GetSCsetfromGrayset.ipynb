{
 "cells": [
  {
   "cell_type": "code",
   "execution_count": 1,
   "metadata": {
    "collapsed": true
   },
   "outputs": [],
   "source": [
    "import numpy as np\n",
    "import os\n",
    "from scipy import ndimage, signal\n",
    "from matplotlib import pyplot as plt\n",
    "import cv2\n",
    "import pickle\n",
    "\n",
    "import shutil\n",
    "\n",
    "# This notebook is used to regenerate SC set from derived Grayset"
   ]
  },
  {
   "cell_type": "code",
   "execution_count": 2,
   "outputs": [],
   "source": [
    "# image functions\n",
    "def convert(img, target_type_min, target_type_max, target_type):\n",
    "    imin = img.min()\n",
    "    imax = img.max()\n",
    "\n",
    "    a = (target_type_max - target_type_min) / (imax - imin)\n",
    "    b = target_type_max - a * imax\n",
    "    new_img = (a * img + b).astype(target_type)\n",
    "    return new_img\n",
    "def toGray(im, im_L=10, im_W=10, contrast=1.0):\n",
    "    # normalize\n",
    "    gray = np.zeros([im_L, im_W])\n",
    "    for j in range(im_L):\n",
    "        for i in range(im_W):\n",
    "            gray[j][i] = max(im[j][i]) * contrast\n",
    "    gray = convert(gray, 0, 255, np.uint8)\n",
    "    return gray\n",
    "def threshold(frame):\n",
    "    out = np.full_like(frame, 128)\n",
    "    out[frame < -6] = 0\n",
    "    # out[frame > 4] = 255\n",
    "    return out\n",
    "kSC = np.array([[-1 / 8, -1 / 8, -1 / 8],  # from class material\n",
    "                [-1 / 8, 1, -1 / 8],\n",
    "                [-1 / 8, -1 / 8, -1 / 8]])\n",
    "def SpatialContrast(imGray):\n",
    "    conv_gray = signal.convolve2d(imGray, kSC, 'same')\n",
    "    # print(conv_gray)\n",
    "    fSCgray = np.array(threshold(conv_gray), dtype=np.uint8)\n",
    "    return fSCgray"
   ],
   "metadata": {
    "collapsed": false
   }
  },
  {
   "cell_type": "code",
   "execution_count": 54,
   "outputs": [],
   "source": [
    "import random\n",
    "num_tests = 10\n",
    "contrast = .5\n",
    "\n",
    "dirFROM = \"ShapeGroups GRAY\"\n",
    "dirTO = \"ShapeGroups\"\n",
    "SCset = np.empty([235, 10,10])\n",
    "for root, dirs, files in os.walk(dirFROM):\n",
    "    idx = 0\n",
    "    for file in files:\n",
    "        pathFROM = root + '\\\\' + file\n",
    "        pathFROM = pathFROM.replace('\\\\', '/')\n",
    "        pathTO = dirTO + '/' + pathFROM[17:]\n",
    "        if pathFROM.find(\"shape3\") != -1:\n",
    "            im = convert(contrast*plt.imread(pathFROM), 0, 255, np.uint8)\n",
    "            imSC = SpatialContrast(im)\n",
    "            SCset[idx] = imSC\n",
    "            idx = idx + 1"
   ],
   "metadata": {
    "collapsed": false
   }
  },
  {
   "cell_type": "code",
   "execution_count": 147,
   "outputs": [
    {
     "name": "stdout",
     "output_type": "stream",
     "text": [
      "[[-0.95427496]\n",
      " [-0.95427496]\n",
      " [-0.52089987]\n",
      " [ 1.1956054 ]\n",
      " [ 1.2126005 ]\n",
      " [ 1.2126005 ]\n",
      " [ 1.2126005 ]\n",
      " [-0.49540721]\n",
      " [-0.95427496]\n",
      " [-0.95427496]]\n"
     ]
    }
   ],
   "source": [
    "from sklearn.preprocessing import StandardScaler\n",
    "dirFROM = \"ShapeGroups GRAY/shape3\"\n",
    "set3 = np.empty([235, 10,10])\n",
    "for root, dirs, files in os.walk(dirFROM):\n",
    "    idx = 0\n",
    "    for file in files:\n",
    "        pathFROM = root + '\\\\' + file\n",
    "        pathFROM = pathFROM.replace('\\\\', '/')\n",
    "        pathTO = dirTO + '/' + pathFROM[17:]\n",
    "        if pathFROM.find(\"shape3\") != -1:\n",
    "            im = convert(contrast*plt.imread(pathFROM), 0, 255, np.uint8)\n",
    "            set3[idx] = im\n",
    "            idx = idx + 1\n",
    "\n",
    "\n",
    "set3new = np.copy(set3)\n",
    "object = StandardScaler()\n",
    "fit = object.fit_transform(set3[:][5][5].reshape(-1,1))\n",
    "print(fit)\n",
    "# for col in range(np.shape(set3)[1]):\n",
    "#     for row in range(np.shape(set3)[2]):\n",
    "#         object = StandardScaler()\n",
    "#         set3new[:][col][row] = object.fit_transform(set3[:][col][row])"
   ],
   "metadata": {
    "collapsed": false
   }
  },
  {
   "cell_type": "code",
   "execution_count": 19,
   "outputs": [
    {
     "name": "stdout",
     "output_type": "stream",
     "text": [
      "209\n",
      "[10.  2.  2.  2.  2.  2.  2.  2.  2. 10.]\n"
     ]
    },
    {
     "data": {
      "text/plain": "<Figure size 200x200 with 1 Axes>",
      "image/png": "[encoded data removed]"
     },
     "metadata": {},
     "output_type": "display_data"
    }
   ],
   "source": [
    "shape = 'shape4'\n",
    "dirFROM = \"ShapeGroups Gray/\" + shape\n",
    "num_samples = len(os.listdir(dirFROM))\n",
    "print(num_samples)\n",
    "set3 = np.empty([num_samples, 10,10])\n",
    "for root, dirs, files in os.walk(dirFROM):\n",
    "    idx = 0\n",
    "    for file in files:\n",
    "        pathFROM = root + '\\\\' + file\n",
    "        pathFROM = pathFROM.replace('\\\\', '/')\n",
    "        # pathTO = dirTO + '/' + pathFROM[17:]\n",
    "        if pathFROM.find(shape) != -1:\n",
    "            im = toGray(cv2.imread(pathFROM), 10, 10)\n",
    "            set3[idx] = im\n",
    "            idx = idx + 1\n",
    "set3SC = np.copy(set3)\n",
    "for sample_idx in range(np.shape(set3)[0]):\n",
    "    set3SC[sample_idx] = SpatialContrast(set3[sample_idx])\n",
    "\n",
    "# get min spikes per row\n",
    "min_row_spikes = np.ones(shape=[np.shape(set3SC)[1]])*10\n",
    "min_shape = np.zeros_like(set3SC[0])\n",
    "for sample_idx in range(np.shape(set3SC)[0]):\n",
    "    for col in range(np.shape(set3SC)[1]):\n",
    "        num_row_spikes = 0\n",
    "        for row in range(np.shape(set3SC)[2]):\n",
    "            if set3SC[sample_idx][col][row] == 0:\n",
    "                num_row_spikes = num_row_spikes + 1\n",
    "        if 0 < num_row_spikes < min_row_spikes[col]:\n",
    "            min_row_spikes[col] = num_row_spikes\n",
    "            min_shape[col] = set3SC[sample_idx][col]\n",
    "\n",
    "print(min_row_spikes)\n",
    "\n",
    "set3_picked = []\n",
    "for idx in range(20):\n",
    "    set3_picked.append(np.ndarray.tolist(min_shape))\n",
    "\n",
    "# print(len(set3_picked))\n",
    "# set_mean = np.sum(set3SC, axis=0) / np.shape(set3SC)[0]\n",
    "# set_meansq = np.sum(set3SC**2, axis=0) / np.shape(set3SC)[0]\n",
    "# set_std = np.sqrt(set_meansq - set_mean**2)\n",
    "# set3SCnew = np.copy(set3SC)\n",
    "# set3_z = []\n",
    "# print(set_std.astype(int))\n",
    "# print()\n",
    "# ax = plt.axes()\n",
    "# plt.imshow(SpatialContrast(set_mean), cmap='gray')\n",
    "# ax.axis('tight')\n",
    "# ax.axis('off')\n",
    "# fig = plt.gcf()\n",
    "# fig.set_size_inches(2, 2)\n",
    "# plt.show()\n",
    "\n",
    "#\n",
    "# for sample_idx in range(np.shape(set3)[0]):\n",
    "#     sample_z = np.divide(set3SC[sample_idx] - set_mean, set_std)\n",
    "#     for col in range(np.shape(set3)[1]):\n",
    "#         for row in range(np.shape(set3)[2]):\n",
    "#             if np.isnan(sample_z[col][row]) or np.isinf(sample_z[col][row]):\n",
    "#                 sample_z[col][row] = 0\n",
    "#     # print(abs(np.mean(sample_z)))\n",
    "#     if np.mean(sample_z) <= 0:\n",
    "#         set3_picked.append(np.ndarray.tolist(set3SC[sample_idx]))\n",
    "#         set3_z.append(abs(np.mean(sample_z)))\n",
    "#\n",
    "# convert to spike set\n",
    "all_spikes = []\n",
    "for sample in set3_picked:\n",
    "    time_step = 100\n",
    "    spikes = []\n",
    "    for col in range(np.shape(sample)[0]):\n",
    "        row_spikes = []\n",
    "        for row in range(np.shape(sample)[1]):\n",
    "            if sample[col][row] == 0:\n",
    "                row_spikes.append(row*time_step)\n",
    "            else:\n",
    "                sample[col][row] = 128\n",
    "        spikes.append(row_spikes)\n",
    "    all_spikes.append(spikes)\n",
    "\n",
    "for sample_idx in range(len(set3_picked)):\n",
    "    if sample_idx < 1:\n",
    "        fig, ax = plt.subplots()\n",
    "        plt.eventplot(all_spikes[sample_idx], linelengths=.8, linewidths=5, colors=['black'])\n",
    "        ax.invert_yaxis()\n",
    "        ax.set_facecolor('white')\n",
    "        ax.set_yticks(range(10))\n",
    "        ax.axis('tight')\n",
    "        ax.axis('off')\n",
    "        fig = plt.gcf()\n",
    "        fig.set_size_inches(2, 2)\n",
    "\n",
    "\n",
    "with open(\"spike_set4_min.bin\", \"wb\") as output:\n",
    "    pickle.dump(all_spikes, output)"
   ],
   "metadata": {
    "collapsed": false
   }
  },
  {
   "cell_type": "code",
   "execution_count": 20,
   "outputs": [
    {
     "data": {
      "text/plain": "<Figure size 200x200 with 1 Axes>",
      "image/png": "[encoded data removed]"
     },
     "metadata": {},
     "output_type": "display_data"
    }
   ],
   "source": [
    "with open(\"spike_set_min/spike_set4_min.bin\", \"rb\") as data:\n",
    "    datain4 = pickle.load(data)[0]\n",
    "# fig, ax = plt.subplots()\n",
    "# plt.eventplot(datain0, linelengths=.8, linewidths=5, colors=['red'])\n",
    "# ax.invert_yaxis()\n",
    "# ax.set_facecolor('white')\n",
    "# ax.set_yticks(range(10))\n",
    "# ax.axis('tight')\n",
    "# ax.axis('off')\n",
    "# fig = plt.gcf()\n",
    "# fig.set_size_inches(2, 2)\n",
    "#\n",
    "# with open(\"spike_set1_min.bin\", \"rb\") as data:\n",
    "#     datain1 = pickle.load(data)[0]\n",
    "# # fig, ax = plt.subplots()\n",
    "# # plt.eventplot(datain1, linelengths=.8, linewidths=5, colors=['red'])\n",
    "# # ax.invert_yaxis()\n",
    "# # ax.set_facecolor('white')\n",
    "# # ax.set_yticks(range(10))\n",
    "# # ax.axis('tight')\n",
    "# # ax.axis('off')\n",
    "# # fig = plt.gcf()\n",
    "# # fig.set_size_inches(2, 2)\n",
    "#\n",
    "# with open(\"spike_set2_min.bin\", \"rb\") as data:\n",
    "#     datain2 = pickle.load(data)[0]\n",
    "# # fig, ax = plt.subplots()\n",
    "# # plt.eventplot(datain2, linelengths=.8, linewidths=5, colors=['red'])\n",
    "# # ax.invert_yaxis()\n",
    "# # ax.set_facecolor('white')\n",
    "# # ax.set_yticks(range(10))\n",
    "# # ax.axis('tight')\n",
    "# # ax.axis('off')\n",
    "# # fig = plt.gcf()\n",
    "# # fig.set_size_inches(2, 2)\n",
    "#\n",
    "# with open(\"spike_set3_min.bin\", \"rb\") as data:\n",
    "#     datain3 = pickle.load(data)[0]\n",
    "# # fig, ax = plt.subplots()\n",
    "# # plt.eventplot(datain3, linelengths=.8, linewidths=5, colors=['red'])\n",
    "# # ax.invert_yaxis()\n",
    "# # ax.set_facecolor('white')\n",
    "# # ax.set_yticks(range(10))\n",
    "# # ax.axis('tight')\n",
    "# # ax.axis('off')\n",
    "# # fig = plt.gcf()\n",
    "# # fig.set_size_inches(2, 2)\n",
    "#\n",
    "# with open(\"spike_set4_min.bin\", \"rb\") as data:\n",
    "#     datain4 = pickle.load(data)[0]\n",
    "# # fig, ax = plt.subplots()\n",
    "# # plt.eventplot(datain4, linelengths=.8, linewidths=5, colors=['red'])\n",
    "# # ax.invert_yaxis()\n",
    "# # ax.set_facecolor('white')\n",
    "# # ax.set_yticks(range(10))\n",
    "# # ax.axis('tight')\n",
    "# # ax.axis('off')\n",
    "# # fig = plt.gcf()\n",
    "# # fig.set_size_inches(2, 2)\n",
    "#\n",
    "# with open(\"spike_set5_min.bin\", \"rb\") as data:\n",
    "#     datain5 = pickle.load(data)[0]\n",
    "# # fig, ax = plt.subplots()\n",
    "# # plt.eventplot(datain5, linelengths=.8, linewidths=5, colors=['red'])\n",
    "# # ax.invert_yaxis()\n",
    "# # ax.set_facecolor('white')\n",
    "# # ax.set_yticks(range(10))\n",
    "# # ax.axis('tight')\n",
    "# # ax.axis('off')\n",
    "# # fig = plt.gcf()\n",
    "# # fig.set_size_inches(2, 2)\n",
    "\n",
    "fig, ax = plt.subplots()\n",
    "plt.eventplot(datain4, linelengths=.8, linewidths=5, colors=['blue'])\n",
    "# plt.eventplot(datain3, linelengths=.8, linewidths=5, colors=['red'])\n",
    "ax.invert_yaxis()\n",
    "ax.set_facecolor('white')\n",
    "ax.set_yticks(range(10))\n",
    "ax.axis('tight')\n",
    "ax.axis('off')\n",
    "fig = plt.gcf()\n",
    "fig.set_size_inches(2, 2)"
   ],
   "metadata": {
    "collapsed": false
   }
  },
  {
   "cell_type": "code",
   "execution_count": 102,
   "outputs": [
    {
     "data": {
      "text/plain": "<Figure size 200x200 with 1 Axes>",
      "image/png": "[encoded data removed]"
     },
     "metadata": {},
     "output_type": "display_data"
    }
   ],
   "source": [
    "\n",
    "with open(\"spike sets/spike_set0.bin\", \"rb\") as data:\n",
    "    datain_1 = pickle.load(data)\n",
    "\n",
    "datain_1 = datain_1[int(np.floor(.8*len(datain_1))+1):]\n",
    "fig, ax = plt.subplots()\n",
    "plt.eventplot(datain_1[0], linelengths=.8, linewidths=5, colors=['red'])\n",
    "plt.eventplot(datain0, linelengths=.8, linewidths=5, colors=['blue'])\n",
    "ax.invert_yaxis()\n",
    "ax.set_facecolor('white')\n",
    "ax.set_yticks(range(10))\n",
    "ax.axis('tight')\n",
    "ax.axis('off')\n",
    "fig = plt.gcf()\n",
    "fig.set_size_inches(2, 2)"
   ],
   "metadata": {
    "collapsed": false
   }
  },
  {
   "cell_type": "code",
   "execution_count": null,
   "outputs": [],
   "source": [],
   "metadata": {
    "collapsed": false
   }
  }
 ],
 "metadata": {
  "kernelspec": {
   "display_name": "Python 3",
   "language": "python",
   "name": "python3"
  },
  "language_info": {
   "codemirror_mode": {
    "name": "ipython",
    "version": 2
   },
   "file_extension": ".py",
   "mimetype": "text/x-python",
   "name": "python",
   "nbconvert_exporter": "python",
   "pygments_lexer": "ipython2",
   "version": "2.7.6"
  }
 },
 "nbformat": 4,
 "nbformat_minor": 0
}
