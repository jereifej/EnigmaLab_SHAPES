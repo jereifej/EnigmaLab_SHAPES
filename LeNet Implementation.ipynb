{
 "cells": [
  {
   "cell_type": "code",
   "execution_count": 1,
   "metadata": {
    "collapsed": true
   },
   "outputs": [],
   "source": [
    "import os\n",
    "import numpy as np\n",
    "import cv2\n",
    "\n",
    "from keras.models import Sequential\n",
    "import keras.layers\n",
    "from sklearn.model_selection import train_test_split\n",
    "from skimage.util import random_noise"
   ]
  },
  {
   "cell_type": "code",
   "execution_count": 2,
   "outputs": [],
   "source": [
    "# image functions\n",
    "def convert(img, target_type_min, target_type_max, target_type):\n",
    "    imin = img.min()\n",
    "    imax = img.max()\n",
    "\n",
    "    a = (target_type_max - target_type_min) / (imax - imin)\n",
    "    b = target_type_max - a * imax\n",
    "    new_img = (a * img + b).astype(target_type)\n",
    "    return new_img\n",
    "\n",
    "def toGray(im, im_L=10, im_W=10, contrast=1.0):\n",
    "    # normalize\n",
    "    gray = np.zeros([im_L, im_W])\n",
    "    for j in range(im_L):\n",
    "        for i in range(im_W):\n",
    "            gray[j][i] = max(im[j][i]) * contrast\n",
    "    gray = convert(gray, 0, 255, np.uint8)\n",
    "    # print(type(gray[0][0]))\n",
    "    return gray"
   ],
   "metadata": {
    "collapsed": false
   }
  },
  {
   "cell_type": "code",
   "execution_count": 3,
   "outputs": [],
   "source": [
    "# import data and label data\n",
    "num_samples = 200\n",
    "sample_set = np.empty([num_samples*9, 10, 10],dtype=np.uint8)\n",
    "sample_labels = np.empty(num_samples*9)\n",
    "baseDir = 'ShapeGroups GRAY'\n",
    "idx = 0\n",
    "shape_id = 0\n",
    "for filename in os.listdir(baseDir):\n",
    "    folder = baseDir + '/' + filename\n",
    "    for imagepath in os.listdir(folder):\n",
    "        imagepathFull = folder + '/' + imagepath\n",
    "        sample_set[idx] = cv2.imread(imagepathFull, cv2.IMREAD_GRAYSCALE)\n",
    "        sample_labels[idx] = shape_id\n",
    "        # print(\"\\n\" + im\n",
    "        # print(training_set[idx])\n",
    "        idx += 1\n",
    "    shape_id += 1\n",
    "sample_set = sample_set[0:idx,]\n",
    "sample_labels = sample_labels[0:idx,]"
   ],
   "metadata": {
    "collapsed": false
   }
  },
  {
   "cell_type": "code",
   "execution_count": 4,
   "outputs": [
    {
     "name": "stdout",
     "output_type": "stream",
     "text": [
      "<class 'numpy.uint8'>\n"
     ]
    }
   ],
   "source": [
    "print(type(sample_set[0][0][0]))"
   ],
   "metadata": {
    "collapsed": false
   }
  },
  {
   "cell_type": "code",
   "execution_count": 5,
   "outputs": [
    {
     "name": "stdout",
     "output_type": "stream",
     "text": [
      "(32, 32)\n",
      "<class 'numpy.uint8'>\n"
     ]
    }
   ],
   "source": [
    "# add padding - 11 rows and columns on each side for 32x32\n",
    "sample_size = len(sample_set)\n",
    "X_set = np.empty([sample_size, 32, 32], dtype=np.uint8)\n",
    "for idx in range(sample_size):\n",
    "    X_set[idx] = np.pad(sample_set[idx], ((11, 11), (11, 11)), 'constant', constant_values=(0, 0))\n",
    "\n",
    "print(np.shape(X_set[0]))\n",
    "print(type(X_set[0,0,0]))"
   ],
   "metadata": {
    "collapsed": false
   }
  },
  {
   "cell_type": "code",
   "execution_count": 6,
   "outputs": [
    {
     "name": "stdout",
     "output_type": "stream",
     "text": [
      "957\n",
      "472\n"
     ]
    }
   ],
   "source": [
    "# Split Dataset\n",
    "X_train, X_test, Y_train, Y_test = train_test_split(X_set, sample_labels, test_size=0.33, random_state=42)\n",
    "\n",
    "print(len(X_train))\n",
    "print(len(X_test))\n",
    "# print(Y_test)"
   ],
   "metadata": {
    "collapsed": false
   }
  },
  {
   "cell_type": "code",
   "execution_count": 7,
   "outputs": [
    {
     "name": "stdout",
     "output_type": "stream",
     "text": [
      "Model: \"sequential\"\n",
      "_________________________________________________________________\n",
      " Layer (type)                Output Shape              Param #   \n",
      "=================================================================\n",
      " conv2d (Conv2D)             (None, 30, 30, 6)         60        \n",
      "                                                                 \n",
      " average_pooling2d (Average  (None, 15, 15, 6)         0         \n",
      " Pooling2D)                                                      \n",
      "                                                                 \n",
      " conv2d_1 (Conv2D)           (None, 13, 13, 16)        880       \n",
      "                                                                 \n",
      " average_pooling2d_1 (Avera  (None, 6, 6, 16)          0         \n",
      " gePooling2D)                                                    \n",
      "                                                                 \n",
      " flatten (Flatten)           (None, 576)               0         \n",
      "                                                                 \n",
      " dense (Dense)               (None, 120)               69240     \n",
      "                                                                 \n",
      " dense_1 (Dense)             (None, 84)                10164     \n",
      "                                                                 \n",
      " dense_2 (Dense)             (None, 6)                 510       \n",
      "                                                                 \n",
      "=================================================================\n",
      "Total params: 80854 (315.84 KB)\n",
      "Trainable params: 80854 (315.84 KB)\n",
      "Non-trainable params: 0 (0.00 Byte)\n",
      "_________________________________________________________________\n"
     ]
    }
   ],
   "source": [
    "# Set up CNN\n",
    "model = Sequential()\n",
    "\n",
    "# Convolution 1: Input = 32x32x1, Output = 28x28x6\n",
    "# Subsampling 1: Input = 28x28x6, Output = 14x14x6\n",
    "model.add(keras.layers.Conv2D(filters=6, kernel_size=(3, 3), activation='relu', input_shape=(32,32,1)))\n",
    "model.add(keras.layers.AveragePooling2D())\n",
    "\n",
    "# Convolution 2: Input = 14x14x6, Output = 10x10x16\n",
    "# Subsampling 2: Input = 10x10x16, Output = 5x5x16\n",
    "model.add(keras.layers.Conv2D(filters=16, kernel_size=(3, 3), activation='relu'))\n",
    "model.add(keras.layers.AveragePooling2D())\n",
    "\n",
    "# Fully Connected Layers\n",
    "model.add(keras.layers.Flatten())\n",
    "\n",
    "# Input = 5x5x16, Output = 120\n",
    "model.add(keras.layers.Dense(units=120, activation='relu'))\n",
    "# Input = 120, Output = 84\n",
    "model.add(keras.layers.Dense(units=84, activation='relu'))\n",
    "\n",
    "# Softmax output - modified for 6 shapes\n",
    "model.add(keras.layers.Dense(units=6, activation = 'softmax'))\n",
    "\n",
    "model.summary()"
   ],
   "metadata": {
    "collapsed": false
   }
  },
  {
   "cell_type": "code",
   "execution_count": 8,
   "outputs": [
    {
     "name": "stdout",
     "output_type": "stream",
     "text": [
      "Epoch 1/5\n",
      "8/8 [==============================] - 1s 47ms/step - loss: 1.8319 - accuracy: 0.5214 - val_loss: 0.6556 - val_accuracy: 0.7945\n",
      "Epoch 2/5\n",
      "8/8 [==============================] - 0s 22ms/step - loss: 0.4407 - accuracy: 0.8861 - val_loss: 0.3008 - val_accuracy: 0.9386\n",
      "Epoch 3/5\n",
      "8/8 [==============================] - 0s 25ms/step - loss: 0.2360 - accuracy: 0.9206 - val_loss: 0.2094 - val_accuracy: 0.9343\n",
      "Epoch 4/5\n",
      "8/8 [==============================] - 0s 22ms/step - loss: 0.1437 - accuracy: 0.9645 - val_loss: 0.1528 - val_accuracy: 0.9894\n",
      "Epoch 5/5\n",
      "8/8 [==============================] - 0s 23ms/step - loss: 0.1016 - accuracy: 0.9885 - val_loss: 0.1135 - val_accuracy: 0.9915\n"
     ]
    }
   ],
   "source": [
    "# Train the network\n",
    "model.compile(optimizer='adam',\n",
    "              loss='sparse_categorical_crossentropy',\n",
    "              metrics=['accuracy'])\n",
    "\n",
    "# Train the ANN model iteratively for n_epochs\n",
    "n_epochs = 5\n",
    "history = model.fit(x=X_train,y=Y_train, epochs=n_epochs, batch_size=128, validation_data=(X_test, Y_test))"
   ],
   "metadata": {
    "collapsed": false
   }
  },
  {
   "cell_type": "code",
   "execution_count": 9,
   "outputs": [
    {
     "name": "stdout",
     "output_type": "stream",
     "text": [
      "Testing:\n",
      "[1.         1.         1.         1.         0.94520548 1.        ]\n",
      "Training:\n",
      "[1.         1.         1.         1.         0.94117647 1.        ]\n"
     ]
    }
   ],
   "source": [
    "def calc_Categorical_Accuracy(test, truth, num_categories):\n",
    "    truth = truth.astype(int)\n",
    "    certainty = model.predict(test, verbose=0)\n",
    "    decision = np.argmax(certainty, axis=1)  # find index of max probability\n",
    "\n",
    "    categorical_accuracy = np.zeros(shape=(num_categories,))\n",
    "    for i in range(len(decision)):\n",
    "      if decision[i] == truth[i]:\n",
    "          categorical_accuracy[truth[i]] = categorical_accuracy[truth[i]]+1\n",
    "\n",
    "    for i in range(num_categories):\n",
    "        num_tests = truth.tolist().count(i)\n",
    "        categorical_accuracy[i] = categorical_accuracy[i]/num_tests\n",
    "    return categorical_accuracy\n",
    "\n",
    "print(\"Testing:\")\n",
    "acc = calc_Categorical_Accuracy(X_test, Y_test, 6)\n",
    "print(acc)\n",
    "\n",
    "print(\"Training:\")\n",
    "acc = calc_Categorical_Accuracy(X_train, Y_train, 6)\n",
    "print(acc)"
   ],
   "metadata": {
    "collapsed": false
   }
  },
  {
   "cell_type": "code",
   "execution_count": 10,
   "outputs": [
    {
     "data": {
      "text/plain": "<Figure size 640x480 with 2 Axes>",
      "image/png": "[encoded data removed]"
     },
     "metadata": {},
     "output_type": "display_data"
    },
    {
     "data": {
      "text/plain": "<Figure size 640x480 with 2 Axes>",
      "image/png": "[encoded data removed]"
     },
     "metadata": {},
     "output_type": "display_data"
    }
   ],
   "source": [
    "import matplotlib.pyplot as plt\n",
    "\n",
    "fig, ax = plt.subplots()\n",
    "ax2 = ax.twinx()\n",
    "ax.plot(history.history['loss'], color='r')\n",
    "ax2.plot(history.history['accuracy'], color='b')\n",
    "ax.set_ylabel('Loss')\n",
    "ax2.set_ylabel('Accuracy')\n",
    "ax.title.set_text('Training Metrics')\n",
    "ax.set_xlabel(\"Epochs\")\n",
    "ax.legend(['loss'], bbox_to_anchor =(1, .9))\n",
    "ax2.legend(['accuracy'], bbox_to_anchor =(.8, .9))\n",
    "plt.show()\n",
    "\n",
    "fig, ax = plt.subplots()\n",
    "ax2 = ax.twinx()\n",
    "ax.plot(history.history['val_loss'], color='r')\n",
    "ax2.plot(history.history['val_accuracy'], color='b')\n",
    "ax.set_ylabel('Loss')\n",
    "ax2.set_ylabel('Accuracy')\n",
    "ax.title.set_text('Testing Metrics')\n",
    "ax.set_xlabel(\"Epochs\")\n",
    "ax.legend(['loss'], bbox_to_anchor =(1, .9))\n",
    "ax2.legend(['accuracy'], bbox_to_anchor =(.8, .9))\n",
    "plt.show()\n"
   ],
   "metadata": {
    "collapsed": false
   }
  },
  {
   "cell_type": "code",
   "execution_count": 11,
   "outputs": [
    {
     "name": "stdout",
     "output_type": "stream",
     "text": [
      "tf.Tensor(\n",
      "[[74  0  0  0  0  0]\n",
      " [ 0 86  0  0  0  0]\n",
      " [ 0  0 84  0  0  0]\n",
      " [ 0  0  0 79  0  0]\n",
      " [ 0  0  2  0 69  2]\n",
      " [ 0  0  0  0  0 76]], shape=(6, 6), dtype=int32)\n"
     ]
    }
   ],
   "source": [
    "import tensorflow as tf\n",
    "\n",
    "# get predictions and convert them into classifications\n",
    "Y_pred = np.empty(shape= [len(Y_test)],dtype=int)\n",
    "predictions = model.predict(X_test, verbose=0)\n",
    "for idx in range(len(predictions)):\n",
    "    Y_pred[idx] = predictions[idx].argmax()\n",
    "\n",
    "# generate confusion matrix for test set\n",
    "conf_matrix = tf.math.confusion_matrix(labels=np.transpose(Y_test),\n",
    "                                      predictions=Y_pred)\n",
    "print(conf_matrix)"
   ],
   "metadata": {
    "collapsed": false
   }
  },
  {
   "cell_type": "code",
   "execution_count": 23,
   "outputs": [],
   "source": [
    "model.save('shape_recognition.keras')"
   ],
   "metadata": {
    "collapsed": false
   }
  },
  {
   "cell_type": "code",
   "execution_count": 12,
   "outputs": [],
   "source": [
    "import random\n",
    "def add_noise(img):\n",
    "\n",
    "    # Getting the dimensions of the image\n",
    "    row , col = img.shape\n",
    "\n",
    "    # Randomly pick some pixels in the\n",
    "    # image for coloring them white\n",
    "    # Pick a random number between 300 and 10000\n",
    "    number_of_pixels = random.randint(300, 10000)\n",
    "    for i in range(number_of_pixels):\n",
    "\n",
    "        # Pick a random y coordinate\n",
    "        y_coord=random.randint(0, row - 1)\n",
    "\n",
    "        # Pick a random x coordinate\n",
    "        x_coord=random.randint(0, col - 1)\n",
    "\n",
    "        # Color that pixel to white\n",
    "        img[y_coord][x_coord] = 255\n",
    "\n",
    "    # Randomly pick some pixels in\n",
    "    # the image for coloring them black\n",
    "    # Pick a random number between 300 and 10000\n",
    "    number_of_pixels = random.randint(300 , 10000)\n",
    "    for i in range(number_of_pixels):\n",
    "\n",
    "        # Pick a random y coordinate\n",
    "        y_coord=random.randint(0, row - 1)\n",
    "\n",
    "        # Pick a random x coordinate\n",
    "        x_coord=random.randint(0, col - 1)\n",
    "\n",
    "        # Color that pixel to black\n",
    "        img[y_coord][x_coord] = 0\n",
    "\n",
    "    return img"
   ],
   "metadata": {
    "collapsed": false
   }
  },
  {
   "cell_type": "code",
   "execution_count": 13,
   "outputs": [
    {
     "name": "stdout",
     "output_type": "stream",
     "text": [
      "<class 'numpy.uint8'>\n",
      "<class 'numpy.uint8'>\n"
     ]
    },
    {
     "data": {
      "text/plain": "<Figure size 300x300 with 1 Axes>",
      "image/png": "[encoded data removed]"
     },
     "metadata": {},
     "output_type": "display_data"
    },
    {
     "data": {
      "text/plain": "<Figure size 300x300 with 1 Axes>",
      "image/png": "[encoded data removed]"
     },
     "metadata": {},
     "output_type": "display_data"
    },
    {
     "name": "stdout",
     "output_type": "stream",
     "text": [
      "tf.Tensor(\n",
      "[[45  0  2 21  2  4]\n",
      " [ 1 19  0 12  1 53]\n",
      " [25  0 15 16 18 10]\n",
      " [ 1  0  0 77  0  1]\n",
      " [21  3  6 12 20 11]\n",
      " [ 0  0  0  4  0 72]], shape=(6, 6), dtype=int32)\n"
     ]
    }
   ],
   "source": [
    "# Add noise to Inference\n",
    "# print(sample_set[0])\n",
    "# set_noise = np.zeros_like(sample_set)\n",
    "# for im_idx in range(np.shape(X_test)[0]):\n",
    "#     set_noise[im_idx] = random_noise(sample_set[im_idx], mode='salt')\n",
    "# print(set_noise[0])\n",
    "# # Pad samples to 32x32 input\n",
    "# sample_size = len(sample_set)\n",
    "# X_noise = np.empty([sample_size, 32, 32])\n",
    "# for idx in range(sample_size):\n",
    "#     X_noise[idx] = np.pad(sample_set[idx], ((11, 11), (11, 11)), 'constant', constant_values=(0, 0))\n",
    "#\n",
    "# # Split Dataset\n",
    "# X_noise_train, X_noise_test, Y_noise_train, Y_noise_test = train_test_split(X_set, sample_labels, test_size=0.33, random_state=42)\n",
    "sample_idx = 0\n",
    "X_noise_test = np.zeros_like(X_test, dtype=np.uint8)\n",
    "for im_idx in range(np.shape(X_test)[0]):\n",
    "    im = random_noise(X_test[im_idx], mode='s&p')\n",
    "    im_uint = convert(im, 0, 255, np.uint8)\n",
    "    X_noise_test[im_idx] = im_uint\n",
    "print(type(X_test[sample_idx,0,0]))\n",
    "print(type(X_noise_test[sample_idx,0,0]))\n",
    "# print(X_test[sample_idx,11:20, 11:20])\n",
    "# print(X_noise_test[sample_idx,11:20, 11:20])\n",
    "# plot\n",
    "ax = plt.axes()\n",
    "plt.imshow(X_noise_test[sample_idx], cmap='gray')\n",
    "ax.axis('tight')\n",
    "ax.axis('off')\n",
    "fig = plt.gcf()\n",
    "fig.set_size_inches(3, 3)\n",
    "plt.show()\n",
    "ax = plt.axes()\n",
    "plt.imshow(X_test[sample_idx], cmap='gray')\n",
    "ax.axis('tight')\n",
    "ax.axis('off')\n",
    "fig = plt.gcf()\n",
    "fig.set_size_inches(3, 3)\n",
    "plt.show()\n",
    "\n",
    "\n",
    "# get predictions and convert them into classifications\n",
    "# Y_pred = np.empty(shape= [len(Y_noise_test)],dtype=int)\n",
    "Y_pred = np.empty(shape= [len(Y_test)],dtype=int)\n",
    "predictions = model.predict(X_noise_test, verbose=0)\n",
    "for idx in range(len(predictions)):\n",
    "    Y_pred[idx] = predictions[idx].argmax()\n",
    "\n",
    "# generate confusion matrix for test set\n",
    "conf_matrix = tf.math.confusion_matrix(labels=np.transpose(Y_test),\n",
    "                                      predictions=Y_pred)\n",
    "print(conf_matrix)"
   ],
   "metadata": {
    "collapsed": false
   }
  },
  {
   "cell_type": "code",
   "execution_count": 14,
   "outputs": [],
   "source": [
    "# LeNet Implementation for Sequence Recognition"
   ],
   "metadata": {
    "collapsed": false
   }
  },
  {
   "cell_type": "code",
   "execution_count": 70,
   "outputs": [],
   "source": [
    "# get dataset!\n",
    "image_sets = ['train.large', 'train.med', 'train.small', 'train.tiny']\n",
    "training_image_files = './exp_shapes/shapes_dataset/%s.input.npy'\n",
    "training_images_list = []\n",
    "\n",
    "for image_set in image_sets:\n",
    "    training_images_list.append(np.load(training_image_files % image_set))\n",
    "\n",
    "num_samples = 200\n",
    "image_set = np.concatenate(training_images_list)[0:num_samples]"
   ],
   "metadata": {
    "collapsed": false
   }
  },
  {
   "cell_type": "code",
   "execution_count": 71,
   "outputs": [],
   "source": [
    "x_set = np.zeros([num_samples, 30, 30], dtype=np.uint8)\n",
    "for im_idx in range(num_samples):\n",
    "    x_set[im_idx] = toGray(image_set[im_idx], 30, 30)\n",
    "x_set_flat = np.zeros([num_samples, 10, 90], dtype=np.uint8)\n",
    "\n",
    "for im_idx in range(num_samples):\n",
    "    sample = x_set[im_idx]\n",
    "    x_set_flat[im_idx] = np.concatenate((sample[0:10, :], sample[10:20, ], sample[20:30, :]), axis=1)"
   ],
   "metadata": {
    "collapsed": false
   }
  },
  {
   "cell_type": "code",
   "execution_count": 72,
   "outputs": [
    {
     "data": {
      "text/plain": "<Figure size 900x100 with 1 Axes>",
      "image/png": "[encoded data removed]"
     },
     "metadata": {},
     "output_type": "display_data"
    }
   ],
   "source": [
    "ax = plt.axes()\n",
    "plt.imshow(x_set_flat[0], cmap='gray')\n",
    "ax.axis('tight')\n",
    "ax.axis('off')\n",
    "fig = plt.gcf()\n",
    "fig.set_size_inches(9, 1)\n",
    "plt.show()"
   ],
   "metadata": {
    "collapsed": false
   }
  },
  {
   "cell_type": "code",
   "execution_count": 77,
   "outputs": [],
   "source": [
    "# takes recognition model and 10x10 shape array\n",
    "def predictShape(shape, model):\n",
    "    # im_uint = np.zeros_like(shape, dtype=np.uint8)\n",
    "    # x_in = np.empty([1, 32, 32], dtype=np.uint8)\n",
    "    # x_in = np.pad(shape, ((11, 11), (11, 11)), 'constant', constant_values=(0, 0))\n",
    "    # im = random_noise(x_in, mode='s&p')\n",
    "    # im_uint = convert(im, 0, 255, np.uint8)\n",
    "    #\n",
    "    # im_uint = tf.expand_dims(im_uint, 0)\n",
    "    shape = tf.expand_dims(shape, 0)\n",
    "    # print(np.shape(x_in))\n",
    "    prediction = model.predict(shape, verbose=0)\n",
    "    return prediction.argmax() # returns the shape with the highest confidence\n",
    "\n",
    "# takes 10x90 array of shapes and a sequence to see if it appears in the array WITH NOISE!! <-- Read that (very important)\n",
    "def predictSequenceNoise(shapes_in, model):\n",
    "    pred_sequence = ''\n",
    "    for idx in range(9):\n",
    "        input = shapes_in[:,10*idx:10*(idx+1)]\n",
    "        pred_sequence += str(predictShape(input, model))\n",
    "    return pred_sequence"
   ],
   "metadata": {
    "collapsed": false
   }
  },
  {
   "cell_type": "code",
   "execution_count": 78,
   "outputs": [
    {
     "name": "stdout",
     "output_type": "stream",
     "text": [
      "0 335303505\n",
      "1 503005000\n",
      "2 424455333\n",
      "3 010310500\n",
      "4 550035031\n",
      "5 325345305\n",
      "6 533335050\n",
      "7 333051053\n",
      "8 303533552\n",
      "9 205533553\n",
      "10 330350353\n",
      "11 005032555\n",
      "12 553455403\n",
      "13 500555533\n",
      "14 033235533\n",
      "15 501553233\n",
      "16 013255534\n",
      "17 553333450\n",
      "18 104345553\n",
      "19 015353503\n",
      "20 233305535\n",
      "21 532243533\n",
      "22 510350033\n",
      "23 525523333\n",
      "24 330353133\n",
      "25 355513305\n",
      "26 333353053\n",
      "27 341514353\n",
      "28 353101045\n",
      "29 453205540\n",
      "30 020555520\n",
      "31 554455355\n",
      "32 354353502\n",
      "33 032350530\n",
      "34 305355505\n",
      "35 431233334\n",
      "36 055532550\n",
      "37 501352135\n",
      "38 000320300\n",
      "39 030335503\n",
      "40 535550403\n",
      "41 333503530\n",
      "42 535305513\n",
      "43 055513335\n",
      "44 333004530\n",
      "45 513505500\n",
      "46 305353023\n",
      "47 555354545\n",
      "48 113333005\n",
      "49 333054053\n",
      "50 354510303\n",
      "51 403554030\n",
      "52 553013334\n",
      "53 025030533\n",
      "54 305535355\n",
      "55 335303353\n",
      "56 300333555\n",
      "57 435353003\n",
      "58 431253335\n",
      "59 503345405\n",
      "60 345330555\n",
      "61 535523340\n",
      "62 330143333\n",
      "63 303445130\n",
      "64 530000050\n",
      "65 553103354\n",
      "66 553055331\n",
      "67 335030101\n",
      "68 505033335\n",
      "69 053035535\n",
      "70 335335543\n",
      "71 003350010\n",
      "72 045310405\n",
      "73 153400153\n",
      "74 153350550\n",
      "75 554003403\n",
      "76 355301353\n",
      "77 043300530\n",
      "78 053505355\n",
      "79 505133313\n",
      "80 053043530\n",
      "81 155355030\n",
      "82 535035553\n",
      "83 523553153\n",
      "84 334531535\n",
      "85 333033553\n",
      "86 455335350\n",
      "87 352031050\n",
      "88 305303532\n",
      "89 344333350\n",
      "90 500335532\n",
      "91 503350303\n",
      "92 032535514\n",
      "93 353535003\n",
      "94 550535523\n",
      "95 453330533\n",
      "96 033503554\n",
      "97 055543550\n",
      "98 453533251\n",
      "99 023430425\n",
      "100 503351354\n",
      "101 503505033\n",
      "102 554430355\n",
      "103 355103015\n",
      "104 031340434\n",
      "105 434500133\n",
      "106 501335505\n",
      "107 550300450\n",
      "108 213553500\n",
      "109 353335414\n",
      "110 503033101\n",
      "111 003343535\n",
      "112 002545444\n",
      "113 500441533\n",
      "114 042303555\n",
      "115 300043135\n",
      "116 053333533\n",
      "117 355313333\n",
      "118 300355334\n",
      "119 014003553\n",
      "120 550353353\n",
      "121 030555005\n",
      "122 433533531\n",
      "123 523345504\n",
      "124 035132550\n",
      "125 500515533\n",
      "126 530354353\n",
      "127 130535040\n",
      "128 033355355\n",
      "129 403330040\n",
      "130 335330035\n",
      "131 050053520\n",
      "132 353355045\n",
      "133 503350355\n",
      "134 503155530\n",
      "135 305353521\n",
      "136 530450550\n",
      "137 015032345\n",
      "138 354355553\n",
      "139 433053440\n",
      "140 550303353\n",
      "141 553543023\n",
      "142 535554533\n",
      "143 350530005\n",
      "144 550305004\n",
      "145 530552110\n",
      "146 400500530\n",
      "147 055343055\n",
      "148 340333532\n",
      "149 023503533\n",
      "150 034203245\n",
      "151 501055333\n",
      "152 503503533\n",
      "153 510055550\n",
      "154 055002154\n",
      "155 451333530\n",
      "156 555533351\n",
      "157 053224550\n",
      "158 310355355\n",
      "159 300533133\n",
      "160 505533500\n",
      "161 035552003\n",
      "162 333341535\n",
      "163 303004500\n",
      "164 405553504\n",
      "165 351503035\n",
      "166 035535530\n",
      "167 055333035\n",
      "168 051053355\n",
      "169 030235555\n",
      "170 531435455\n",
      "171 340055303\n",
      "172 051344535\n",
      "173 503305353\n",
      "174 533300535\n",
      "175 300522050\n",
      "176 305050355\n",
      "177 333243035\n",
      "178 355353501\n",
      "179 403502353\n",
      "180 433502503\n",
      "181 503340055\n",
      "182 350550355\n",
      "183 003533335\n",
      "184 303033530\n",
      "185 550453551\n",
      "186 535055033\n",
      "187 500323305\n",
      "188 055355530\n",
      "189 034504335\n",
      "190 025545503\n",
      "191 335530333\n",
      "192 330015555\n",
      "193 340305453\n",
      "194 455333503\n",
      "195 555350345\n",
      "196 005335324\n",
      "197 333533523\n",
      "198 025050333\n",
      "199 425535553\n"
     ]
    }
   ],
   "source": [
    "predictions = []\n",
    "for idx in range(np.shape(x_set_flat)[0]):\n",
    "    predictions.append(predictSequenceNoise(x_set_flat[idx], model))\n",
    "    print(idx, predictions[-1])"
   ],
   "metadata": {
    "collapsed": false
   }
  },
  {
   "cell_type": "code",
   "execution_count": 88,
   "outputs": [
    {
     "name": "stdout",
     "output_type": "stream",
     "text": [
      "[53, 112, 180, 190, 198] 5\n"
     ]
    }
   ],
   "source": [
    "# print(predictSequence(x_set_flat[0], '243', model))\n",
    "sequence = '025'\n",
    "\n",
    "indices = [i for i, x in enumerate(predictions) if sequence in x]\n",
    "print(indices, len(indices))"
   ],
   "metadata": {
    "collapsed": false
   }
  },
  {
   "cell_type": "code",
   "execution_count": null,
   "outputs": [],
   "source": [],
   "metadata": {
    "collapsed": false
   }
  }
 ],
 "metadata": {
  "kernelspec": {
   "display_name": "Python 3",
   "language": "python",
   "name": "python3"
  },
  "language_info": {
   "codemirror_mode": {
    "name": "ipython",
    "version": 2
   },
   "file_extension": ".py",
   "mimetype": "text/x-python",
   "name": "python",
   "nbconvert_exporter": "python",
   "pygments_lexer": "ipython2",
   "version": "2.7.6"
  }
 },
 "nbformat": 4,
 "nbformat_minor": 0
}
