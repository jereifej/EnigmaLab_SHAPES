{
 "cells": [
  {
   "cell_type": "code",
   "execution_count": 1,
   "metadata": {
    "collapsed": true
   },
   "outputs": [],
   "source": [
    "import numpy as np\n",
    "import cv2\n",
    "import torch\n",
    "from torch import nn\n",
    "from torch.utils.data import DataLoader\n",
    "from torchvision import datasets as dts\n",
    "from torchvision.transforms import ToTensor, Lambda\n",
    "import matplotlib.pyplot as plt"
   ]
  },
  {
   "cell_type": "code",
   "execution_count": 2,
   "outputs": [],
   "source": [
    "### Threshold value between 0 and 1\n",
    "def threshold(img, TH = .1):\n",
    "    output = np.zeros_like(img)\n",
    "    output[img > TH] = 1\n",
    "    return output\n",
    "\n",
    "def showDigitSamples(samples, filename = ''):\n",
    "    figure = plt.figure(figsize=(10,5))\n",
    "    cols, rows = 5, 2\n",
    "    for i in range(1, cols * rows + 1):\n",
    "        figure.add_subplot(rows, cols, i)\n",
    "        plt.title(i-1)\n",
    "        plt.axis(\"off\")\n",
    "        plt.imshow(samples[i-1].squeeze(), cmap=\"gray\")\n",
    "\n",
    "    if not filename == '':\n",
    "        plt.savefig(filename)\n",
    "    plt.show()\n",
    "\n",
    "def mse(A, B):\n",
    "    return ((A - B) ** 2).mean(axis=None)\n"
   ],
   "metadata": {
    "collapsed": false
   }
  },
  {
   "cell_type": "code",
   "execution_count": 3,
   "outputs": [],
   "source": [
    "training_data = dts.MNIST(\n",
    "    root = 'data',\n",
    "    train = True,\n",
    "    transform = ToTensor(),\n",
    "    download = True,\n",
    ")\n",
    "test_data = dts.MNIST(\n",
    "    root = 'data',\n",
    "    train = False,\n",
    "    transform = ToTensor()\n",
    ")"
   ],
   "metadata": {
    "collapsed": false
   }
  },
  {
   "cell_type": "code",
   "execution_count": 4,
   "outputs": [
    {
     "data": {
      "text/plain": "<Figure size 800x800 with 8 Axes>",
      "image/png": "[encoded data removed]"
     },
     "metadata": {},
     "output_type": "display_data"
    }
   ],
   "source": [
    "figure = plt.figure(figsize=(8,8))\n",
    "cols, rows = 4, 2\n",
    "for i in range(1, cols * rows + 1):\n",
    "    sample_idx = torch.randint(len(training_data), size=(1,)).item()\n",
    "    img, label = training_data[sample_idx]\n",
    "    figure.add_subplot(rows, cols, i)\n",
    "    plt.title(label)\n",
    "    plt.axis(\"off\")\n",
    "    plt.imshow(img.squeeze(), cmap=\"gray\")\n",
    "plt.show()"
   ],
   "metadata": {
    "collapsed": false
   }
  },
  {
   "cell_type": "code",
   "execution_count": 12,
   "outputs": [
    {
     "name": "stdout",
     "output_type": "stream",
     "text": [
      "0\n",
      "data/MNIST/imgs/8/0.jpg\n",
      "1000\n",
      "data/MNIST/imgs/6/1000.jpg\n",
      "2000\n",
      "data/MNIST/imgs/0/2000.jpg\n",
      "3000\n",
      "data/MNIST/imgs/5/3000.jpg\n",
      "4000\n",
      "data/MNIST/imgs/6/4000.jpg\n",
      "5000\n",
      "data/MNIST/imgs/2/5000.jpg\n",
      "6000\n",
      "data/MNIST/imgs/9/6000.jpg\n",
      "7000\n",
      "data/MNIST/imgs/9/7000.jpg\n",
      "8000\n",
      "data/MNIST/imgs/4/8000.jpg\n",
      "9000\n",
      "data/MNIST/imgs/9/9000.jpg\n",
      "10000\n",
      "data/MNIST/imgs/7/10000.jpg\n",
      "11000\n",
      "data/MNIST/imgs/2/11000.jpg\n",
      "12000\n",
      "data/MNIST/imgs/3/12000.jpg\n",
      "13000\n",
      "data/MNIST/imgs/9/13000.jpg\n",
      "14000\n",
      "data/MNIST/imgs/6/14000.jpg\n",
      "15000\n",
      "data/MNIST/imgs/7/15000.jpg\n",
      "16000\n",
      "data/MNIST/imgs/1/16000.jpg\n",
      "17000\n",
      "data/MNIST/imgs/7/17000.jpg\n",
      "18000\n",
      "data/MNIST/imgs/8/18000.jpg\n",
      "19000\n",
      "data/MNIST/imgs/4/19000.jpg\n",
      "20000\n",
      "data/MNIST/imgs/2/20000.jpg\n",
      "21000\n",
      "data/MNIST/imgs/4/21000.jpg\n",
      "22000\n",
      "data/MNIST/imgs/4/22000.jpg\n",
      "23000\n",
      "data/MNIST/imgs/3/23000.jpg\n",
      "24000\n",
      "data/MNIST/imgs/4/24000.jpg\n",
      "25000\n",
      "data/MNIST/imgs/9/25000.jpg\n",
      "26000\n",
      "data/MNIST/imgs/6/26000.jpg\n",
      "27000\n",
      "data/MNIST/imgs/0/27000.jpg\n",
      "28000\n",
      "data/MNIST/imgs/8/28000.jpg\n",
      "29000\n",
      "data/MNIST/imgs/8/29000.jpg\n",
      "30000\n",
      "data/MNIST/imgs/1/30000.jpg\n",
      "31000\n",
      "data/MNIST/imgs/8/31000.jpg\n",
      "32000\n",
      "data/MNIST/imgs/5/32000.jpg\n",
      "33000\n",
      "data/MNIST/imgs/6/33000.jpg\n",
      "34000\n",
      "data/MNIST/imgs/9/34000.jpg\n",
      "35000\n",
      "data/MNIST/imgs/0/35000.jpg\n",
      "36000\n",
      "data/MNIST/imgs/0/36000.jpg\n",
      "37000\n",
      "data/MNIST/imgs/5/37000.jpg\n",
      "38000\n",
      "data/MNIST/imgs/7/38000.jpg\n",
      "39000\n",
      "data/MNIST/imgs/9/39000.jpg\n",
      "40000\n",
      "data/MNIST/imgs/5/40000.jpg\n",
      "41000\n",
      "data/MNIST/imgs/1/41000.jpg\n",
      "42000\n",
      "data/MNIST/imgs/0/42000.jpg\n",
      "43000\n",
      "data/MNIST/imgs/1/43000.jpg\n",
      "44000\n",
      "data/MNIST/imgs/9/44000.jpg\n",
      "45000\n",
      "data/MNIST/imgs/5/45000.jpg\n",
      "46000\n",
      "data/MNIST/imgs/1/46000.jpg\n",
      "47000\n",
      "data/MNIST/imgs/5/47000.jpg\n",
      "48000\n",
      "data/MNIST/imgs/2/48000.jpg\n",
      "49000\n",
      "data/MNIST/imgs/6/49000.jpg\n",
      "50000\n",
      "data/MNIST/imgs/8/50000.jpg\n",
      "51000\n",
      "data/MNIST/imgs/7/51000.jpg\n",
      "52000\n",
      "data/MNIST/imgs/0/52000.jpg\n",
      "53000\n",
      "data/MNIST/imgs/5/53000.jpg\n",
      "54000\n",
      "data/MNIST/imgs/8/54000.jpg\n",
      "55000\n",
      "data/MNIST/imgs/0/55000.jpg\n",
      "56000\n",
      "data/MNIST/imgs/3/56000.jpg\n",
      "57000\n",
      "data/MNIST/imgs/5/57000.jpg\n",
      "58000\n",
      "data/MNIST/imgs/2/58000.jpg\n",
      "59000\n",
      "data/MNIST/imgs/4/59000.jpg\n"
     ]
    }
   ],
   "source": [
    "# for i in range(len(training_data)):\n",
    "#     if not i % 1000:\n",
    "#         print(i)\n",
    "#     img, label = training_data[i]\n",
    "#     img = img.numpy()\n",
    "#     img = np.reshape(img, [28, 28])\n",
    "#     img_resize = 255-cv2.resize(img, (256, 256), interpolation=cv2.INTER_AREA)*255\n",
    "#     img_color = cv2.cvtColor(img_resize, cv2.COLOR_GRAY2BGR)\n",
    "#     # plt.imshow(img_resize.squeeze(), cmap=\"gray\")\n",
    "#     # plt.show()\n",
    "#     # cv2.imwrite('data/MNIST/imgs/'+ str(i) + '_' + str(label) + '.jpg', img_color)"
   ],
   "metadata": {
    "collapsed": false
   }
  },
  {
   "cell_type": "code",
   "execution_count": 5,
   "outputs": [
    {
     "name": "stdout",
     "output_type": "stream",
     "text": [
      "0\n",
      "1000\n",
      "2000\n",
      "3000\n",
      "4000\n",
      "5000\n",
      "6000\n",
      "7000\n",
      "8000\n",
      "9000\n",
      "10000\n",
      "11000\n",
      "12000\n",
      "13000\n",
      "14000\n",
      "15000\n",
      "16000\n",
      "17000\n",
      "18000\n",
      "19000\n",
      "20000\n",
      "21000\n",
      "22000\n",
      "23000\n",
      "24000\n",
      "25000\n",
      "26000\n",
      "27000\n",
      "28000\n",
      "29000\n",
      "30000\n",
      "31000\n",
      "32000\n",
      "33000\n",
      "34000\n",
      "35000\n",
      "36000\n",
      "37000\n",
      "38000\n",
      "39000\n",
      "40000\n",
      "41000\n",
      "42000\n",
      "43000\n",
      "44000\n",
      "45000\n",
      "46000\n",
      "47000\n",
      "48000\n",
      "49000\n",
      "50000\n",
      "51000\n",
      "52000\n",
      "53000\n",
      "54000\n",
      "55000\n",
      "56000\n",
      "57000\n",
      "58000\n",
      "59000\n"
     ]
    }
   ],
   "source": [
    "img_acc = np.zeros(shape=[10, 28, 28], dtype=np.float32)\n",
    "label_acc = np.zeros(shape=[10, 28, 28], dtype=int)\n",
    "for i in range(len(training_data)):\n",
    "    if not i % 1000:\n",
    "        print(i)\n",
    "    img, label = training_data[i]\n",
    "    img = img.numpy()\n",
    "    img = np.reshape(img, [28, 28])\n",
    "    img_acc[label] += img\n",
    "    label_acc[label] += 1"
   ],
   "metadata": {
    "collapsed": false
   }
  },
  {
   "cell_type": "code",
   "execution_count": 6,
   "outputs": [
    {
     "name": "stdout",
     "output_type": "stream",
     "text": [
      "(28, 28)\n"
     ]
    },
    {
     "data": {
      "text/plain": "<Figure size 1000x500 with 10 Axes>",
      "image/png": "[encoded data removed]"
     },
     "metadata": {},
     "output_type": "display_data"
    }
   ],
   "source": [
    "img_avg = np.zeros(shape=[10, 28, 28], dtype=np.float32)\n",
    "print(np.shape(img_avg[0]))\n",
    "# for i in range(10):\n",
    "#     img_avg = img_acc[i] / label_acc[i]\n",
    "img_avg = np.divide(img_acc, label_acc)\n",
    "figure = plt.figure(figsize=(10,5))\n",
    "cols, rows = 5, 2\n",
    "for i in range(1, cols * rows + 1):\n",
    "    figure.add_subplot(rows, cols, i)\n",
    "    plt.title(i-1)\n",
    "    plt.axis(\"off\")\n",
    "    plt.imshow(img_avg[i-1].squeeze(), cmap=\"gray\")\n",
    "plt.show()"
   ],
   "metadata": {
    "collapsed": false
   }
  },
  {
   "cell_type": "code",
   "execution_count": 7,
   "outputs": [
    {
     "data": {
      "text/plain": "<Figure size 1000x500 with 10 Axes>",
      "image/png": "[encoded data removed]"
     },
     "metadata": {},
     "output_type": "display_data"
    },
    {
     "data": {
      "text/plain": "<Figure size 1000x500 with 10 Axes>",
      "image/png": "[encoded data removed]"
     },
     "metadata": {},
     "output_type": "display_data"
    }
   ],
   "source": [
    "TH = 90/255.\n",
    "img_avg_resize = np.zeros(shape=[10,14,14], dtype=np.float32)\n",
    "for i in range(10):\n",
    "    img_avg_resize[i] = cv2.resize(img_avg[i], [14, 14])\n",
    "\n",
    "showDigitSamples(img_avg_resize, filename='average.png')\n",
    "\n",
    "img_thresh = np.zeros_like(img_avg_resize)\n",
    "for i in range(10):\n",
    "    img_thresh[i] = threshold(img_avg_resize[i], TH=TH)\n",
    "\n",
    "showDigitSamples(img_thresh, filename='threshold.png')"
   ],
   "metadata": {
    "collapsed": false
   }
  },
  {
   "cell_type": "code",
   "execution_count": 8,
   "outputs": [
    {
     "data": {
      "text/plain": "<Figure size 480x480 with 2 Axes>",
      "image/png": "[encoded data removed]"
     },
     "metadata": {},
     "output_type": "display_data"
    }
   ],
   "source": [
    "uniqueness = np.zeros(shape=[10,10], dtype=float)\n",
    "\n",
    "for i in range(10):\n",
    "    for j in range(10):\n",
    "        uniqueness[i][j] = mse(img_thresh[i], img_thresh[j])\n",
    "\n",
    "plt.matshow(uniqueness, cmap='autumn')\n",
    "plt.colorbar()\n",
    "plt.show()"
   ],
   "metadata": {
    "collapsed": false
   }
  },
  {
   "cell_type": "code",
   "execution_count": null,
   "outputs": [],
   "source": [],
   "metadata": {
    "collapsed": false
   }
  }
 ],
 "metadata": {
  "kernelspec": {
   "display_name": "Python 3",
   "language": "python",
   "name": "python3"
  },
  "language_info": {
   "codemirror_mode": {
    "name": "ipython",
    "version": 2
   },
   "file_extension": ".py",
   "mimetype": "text/x-python",
   "name": "python",
   "nbconvert_exporter": "python",
   "pygments_lexer": "ipython2",
   "version": "2.7.6"
  }
 },
 "nbformat": 4,
 "nbformat_minor": 0
}
