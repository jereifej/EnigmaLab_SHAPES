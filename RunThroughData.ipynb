{
 "cells": [
  {
   "cell_type": "code",
   "execution_count": 28,
   "metadata": {
    "collapsed": true
   },
   "outputs": [],
   "source": [
    "import cv2\n",
    "import os\n",
    "import time\n",
    "import numpy as np\n",
    "from scipy import ndimage, signal\n",
    "from matplotlib import pyplot as plt\n",
    "import shutil"
   ]
  },
  {
   "cell_type": "code",
   "execution_count": 29,
   "outputs": [],
   "source": [
    "kSC = np.array([[-1 / 8, -1 / 8, -1 / 8],  # from class material\n",
    "                [-1 / 8, 1, -1 / 8],\n",
    "                [-1 / 8, -1 / 8, -1 / 8]])\n",
    "\n",
    "def convert(img, target_type_min, target_type_max, target_type):\n",
    "    imin = img.min()\n",
    "    imax = img.max()\n",
    "\n",
    "    a = (target_type_max - target_type_min) / (imax - imin)\n",
    "    b = target_type_max - a * imax\n",
    "    new_img = (a * img + b).astype(target_type)\n",
    "    return new_img\n",
    "def toGray(im, im_L=10, im_W=10, contrast=1.0):\n",
    "    # normalize\n",
    "    gray = np.zeros([im_L, im_W])\n",
    "    for j in range(im_L):\n",
    "        for i in range(im_W):\n",
    "            gray[j][i] = max(im[j][i]) * contrast\n",
    "    gray = convert(gray, 0, 255, np.uint8)\n",
    "    return gray\n",
    "def threshold(frame):\n",
    "    # for j in range(len(frame)):\n",
    "    #     for i in range(len(frame[0])):\n",
    "    #         print(frame[j][i])\n",
    "    #\n",
    "    # print(\"---------------------------------\")\n",
    "    out = np.full_like(frame, 128)\n",
    "    out[frame < -4] = 0\n",
    "    out[frame > 4] = 255\n",
    "    return out\n",
    "def SpacialContrast(imGray):\n",
    "    conv_gray = signal.convolve2d(imGray, kSC, 'same')\n",
    "    fSCgray = np.array(threshold(conv_gray), dtype=np.uint8)\n",
    "    return fSCgray"
   ],
   "metadata": {
    "collapsed": false
   }
  },
  {
   "cell_type": "code",
   "execution_count": 30,
   "outputs": [
    {
     "name": "stderr",
     "output_type": "stream",
     "text": [
      "C:\\Users\\ereij\\AppData\\Local\\Temp\\ipykernel_12372\\2113857434.py:9: RuntimeWarning: divide by zero encountered in scalar divide\n",
      "  a = (target_type_max - target_type_min) / (imax - imin)\n",
      "C:\\Users\\ereij\\AppData\\Local\\Temp\\ipykernel_12372\\2113857434.py:11: RuntimeWarning: invalid value encountered in add\n",
      "  new_img = (a * img + b).astype(target_type)\n",
      "C:\\Users\\ereij\\AppData\\Local\\Temp\\ipykernel_12372\\2113857434.py:11: RuntimeWarning: invalid value encountered in cast\n",
      "  new_img = (a * img + b).astype(target_type)\n"
     ]
    }
   ],
   "source": [
    "training_set = np.empty([120*9+1, 10, 10])\n",
    "src_set = np.empty(shape=120*9+1, dtype=object)\n",
    "baseDir = 'ShapeGroups'\n",
    "idx = 0\n",
    "for filename in os.listdir(baseDir):\n",
    "    folder = baseDir + '/' + filename\n",
    "    for imagepath in os.listdir(folder):\n",
    "        imagepathFull = folder + '/' + imagepath\n",
    "        training_set[idx] = toGray(cv2.imread(imagepathFull))\n",
    "        src_set[idx] = imagepathFull\n",
    "        # print(training_set[idx])\n",
    "        idx += 1"
   ],
   "metadata": {
    "collapsed": false
   }
  },
  {
   "cell_type": "code",
   "execution_count": null,
   "outputs": [],
   "source": [
    "for sample, dir in zip(training_set, src_set):\n",
    "    plt.imshow(sample)\n",
    "    plt.show()\n",
    "    print(dir)\n",
    "    time.sleep(.01)"
   ],
   "metadata": {
    "collapsed": false
   }
  },
  {
   "cell_type": "code",
   "execution_count": null,
   "outputs": [],
   "source": [
    "cv2.imshow(\"\", cv2.resize(training_set[0], [50, 50], interpolation=cv2.INTER_LINEAR))\n",
    "\n",
    "cv2.waitKey(0)"
   ],
   "metadata": {
    "collapsed": false
   }
  },
  {
   "cell_type": "code",
   "execution_count": null,
   "outputs": [],
   "source": [
    "# testing some maths\n",
    "sh4_22 = training_set[1]\n",
    "sh0_01 = training_set[2]\n",
    "sh0_22 = training_set[3]\n",
    "\n",
    "print(sum(sum(abs(sh4_22.astype(int) - sh0_22.astype(int)))))\n",
    "print(sum(sum(abs(sh4_22.astype(int) - sh0_01.astype(int)))))"
   ],
   "metadata": {
    "collapsed": false
   }
  },
  {
   "cell_type": "code",
   "execution_count": null,
   "outputs": [],
   "source": [
    "fSC4_22 = SpacialContrast(sh4_22)\n",
    "fSC0_01 = SpacialContrast(sh0_01)\n",
    "fSC0_22 = SpacialContrast(sh0_22)\n",
    "\n",
    "print(sum(sum(abs(fSC4_22.astype(int)/255 - fSC0_01.astype(int)/255))))\n",
    "print(sum(sum(abs(fSC4_22.astype(int)/255 - fSC0_22.astype(int)/255))))\n",
    "print(sum(sum(abs(fSC0_22.astype(int)/255 - fSC0_01.astype(int)/255))))\n",
    "\n",
    "fig = plt.figure()\n",
    "fig.add_subplot(2, 3, 1)\n",
    "plt.imshow(fSC4_22)\n",
    "\n",
    "fig.add_subplot(2, 3, 2)\n",
    "plt.imshow(fSC0_01)\n",
    "\n",
    "fig.add_subplot(2, 3, 3)\n",
    "plt.imshow(fSC0_22)\n",
    "\n",
    "fig.add_subplot(2, 3, 4)\n",
    "plt.imshow(abs(fSC4_22.astype(int)/255 - fSC0_01.astype(int)/255))\n",
    "\n",
    "fig.add_subplot(2, 3, 5)\n",
    "plt.imshow(abs(fSC4_22.astype(int)/255 - fSC0_22.astype(int)/255))\n",
    "\n",
    "fig.add_subplot(2, 3, 6)\n",
    "plt.imshow(abs(fSC0_22.astype(int)/255 - fSC0_01.astype(int)/255))\n",
    "plt.show()"
   ],
   "metadata": {
    "collapsed": false
   }
  },
  {
   "cell_type": "code",
   "execution_count": null,
   "outputs": [],
   "source": [
    "fSC0_20 = toGray(cv2.imread(\"ShapeGroups/shape5/0_20.png\"))\n",
    "fSC4_02 = toGray(cv2.imread(\"ShapeGroups/shape15/4_12.png\"))\n",
    "\n",
    "print(sum(sum(abs(fSC0_20.astype(int)/255 - fSC4_02.astype(int)/255))))\n",
    "plt.imshow((abs(fSC0_20.astype(int)/255 - fSC4_02.astype(int)/255)))\n",
    "plt.show()"
   ],
   "metadata": {
    "collapsed": false
   }
  },
  {
   "cell_type": "code",
   "execution_count": null,
   "outputs": [],
   "source": [
    "# clean dataset\n",
    "# toFind = [\"0_11\", \"103_12\", \"105_02\", \"98_00\", \"87_12\",\n",
    "#           \"74_02\", \"65_11\", \"63_10\", \"62_02\", \"52_00\",\n",
    "#           \"38_22\", \"2_11\", \"21_02\", \"17_22\", \"115_01\",\n",
    "#           \"112_11\", \"111_10\", \"107_02\"]\n",
    "# toMove = \"ShapeGroups/shape5\"\n",
    "toFind = [\"5_22\", \"4_00\"]\n",
    "toMove = \"ShapeGroups/shape7\"\n",
    "idx = 0\n",
    "for sample in toFind:\n",
    "    im = \"shape7/\" + sample\n",
    "    for idx in range(len(src_set)):\n",
    "        dir = src_set[idx]\n",
    "        if dir.find(im) != -1:\n",
    "            print(dir)\n",
    "            # plt.imshow(training_set[idx])\n",
    "            # plt.show()\n",
    "            # shutil.move(dir, toMove)"
   ],
   "metadata": {
    "collapsed": false
   }
  },
  {
   "cell_type": "code",
   "execution_count": null,
   "outputs": [],
   "source": [],
   "metadata": {
    "collapsed": false
   }
  }
 ],
 "metadata": {
  "kernelspec": {
   "display_name": "Python 3",
   "language": "python",
   "name": "python3"
  },
  "language_info": {
   "codemirror_mode": {
    "name": "ipython",
    "version": 2
   },
   "file_extension": ".py",
   "mimetype": "text/x-python",
   "name": "python",
   "nbconvert_exporter": "python",
   "pygments_lexer": "ipython2",
   "version": "2.7.6"
  }
 },
 "nbformat": 4,
 "nbformat_minor": 0
}
